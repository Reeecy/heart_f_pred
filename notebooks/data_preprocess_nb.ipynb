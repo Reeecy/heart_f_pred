{
 "cells": [
  {
   "metadata": {
    "ExecuteTime": {
     "end_time": "2024-12-11T18:38:41.661741Z",
     "start_time": "2024-12-11T18:38:41.658718Z"
    }
   },
   "cell_type": "code",
   "source": [
    "import numpy as np\n",
    "\n",
    "### PREPROCESS ###\n",
    "import pandas as pd\n",
    "from sklearn.model_selection import train_test_split\n",
    "from sklearn.preprocessing import StandardScaler, OneHotEncoder\n",
    "### PREPROCESS ###\n",
    "\n",
    "### MODELING ###\n",
    "from sklearn.linear_model import LogisticRegression\n",
    "from sklearn.pipeline import make_pipeline\n",
    "from sklearn.tree import DecisionTreeClassifier\n",
    "from sklearn.ensemble import RandomForestClassifier\n",
    "from sklearn.svm import SVC\n",
    "from sklearn.neighbors import KNeighborsClassifier\n",
    "from sklearn.naive_bayes import GaussianNB\n",
    "from sklearn.discriminant_analysis import LinearDiscriminantAnalysis, QuadraticDiscriminantAnalysis\n",
    "import xgboost as xgb\n",
    "from sklearn.base import BaseEstimator, ClassifierMixin\n",
    "### MODELING ###\n",
    "\n",
    "# EXTRAS #\n",
    "from sklearn.metrics import accuracy_score, classification_report\n"
   ],
   "id": "1c4960ea2dfe2fe9",
   "outputs": [],
   "execution_count": 35
  },
  {
   "metadata": {
    "ExecuteTime": {
     "end_time": "2024-12-11T18:32:20.817180Z",
     "start_time": "2024-12-11T18:32:20.813378Z"
    }
   },
   "cell_type": "code",
   "source": [
    "# Loading the dataset\n",
    "df = pd.read_csv('../data/heart.csv')"
   ],
   "id": "2c7c4576ba06033d",
   "outputs": [],
   "execution_count": 23
  },
  {
   "metadata": {
    "ExecuteTime": {
     "end_time": "2024-12-11T18:32:21.620298Z",
     "start_time": "2024-12-11T18:32:21.614238Z"
    }
   },
   "cell_type": "code",
   "source": "df.head(10)",
   "id": "f172fbd76a183289",
   "outputs": [
    {
     "data": {
      "text/plain": [
       "   Age Sex ChestPainType  RestingBP  Cholesterol  FastingBS RestingECG  MaxHR  \\\n",
       "0   40   M           ATA        140          289          0     Normal    172   \n",
       "1   49   F           NAP        160          180          0     Normal    156   \n",
       "2   37   M           ATA        130          283          0         ST     98   \n",
       "3   48   F           ASY        138          214          0     Normal    108   \n",
       "4   54   M           NAP        150          195          0     Normal    122   \n",
       "5   39   M           NAP        120          339          0     Normal    170   \n",
       "6   45   F           ATA        130          237          0     Normal    170   \n",
       "7   54   M           ATA        110          208          0     Normal    142   \n",
       "8   37   M           ASY        140          207          0     Normal    130   \n",
       "9   48   F           ATA        120          284          0     Normal    120   \n",
       "\n",
       "  ExerciseAngina  Oldpeak ST_Slope  HeartDisease  \n",
       "0              N      0.0       Up             0  \n",
       "1              N      1.0     Flat             1  \n",
       "2              N      0.0       Up             0  \n",
       "3              Y      1.5     Flat             1  \n",
       "4              N      0.0       Up             0  \n",
       "5              N      0.0       Up             0  \n",
       "6              N      0.0       Up             0  \n",
       "7              N      0.0       Up             0  \n",
       "8              Y      1.5     Flat             1  \n",
       "9              N      0.0       Up             0  "
      ],
      "text/html": [
       "<div>\n",
       "<style scoped>\n",
       "    .dataframe tbody tr th:only-of-type {\n",
       "        vertical-align: middle;\n",
       "    }\n",
       "\n",
       "    .dataframe tbody tr th {\n",
       "        vertical-align: top;\n",
       "    }\n",
       "\n",
       "    .dataframe thead th {\n",
       "        text-align: right;\n",
       "    }\n",
       "</style>\n",
       "<table border=\"1\" class=\"dataframe\">\n",
       "  <thead>\n",
       "    <tr style=\"text-align: right;\">\n",
       "      <th></th>\n",
       "      <th>Age</th>\n",
       "      <th>Sex</th>\n",
       "      <th>ChestPainType</th>\n",
       "      <th>RestingBP</th>\n",
       "      <th>Cholesterol</th>\n",
       "      <th>FastingBS</th>\n",
       "      <th>RestingECG</th>\n",
       "      <th>MaxHR</th>\n",
       "      <th>ExerciseAngina</th>\n",
       "      <th>Oldpeak</th>\n",
       "      <th>ST_Slope</th>\n",
       "      <th>HeartDisease</th>\n",
       "    </tr>\n",
       "  </thead>\n",
       "  <tbody>\n",
       "    <tr>\n",
       "      <th>0</th>\n",
       "      <td>40</td>\n",
       "      <td>M</td>\n",
       "      <td>ATA</td>\n",
       "      <td>140</td>\n",
       "      <td>289</td>\n",
       "      <td>0</td>\n",
       "      <td>Normal</td>\n",
       "      <td>172</td>\n",
       "      <td>N</td>\n",
       "      <td>0.0</td>\n",
       "      <td>Up</td>\n",
       "      <td>0</td>\n",
       "    </tr>\n",
       "    <tr>\n",
       "      <th>1</th>\n",
       "      <td>49</td>\n",
       "      <td>F</td>\n",
       "      <td>NAP</td>\n",
       "      <td>160</td>\n",
       "      <td>180</td>\n",
       "      <td>0</td>\n",
       "      <td>Normal</td>\n",
       "      <td>156</td>\n",
       "      <td>N</td>\n",
       "      <td>1.0</td>\n",
       "      <td>Flat</td>\n",
       "      <td>1</td>\n",
       "    </tr>\n",
       "    <tr>\n",
       "      <th>2</th>\n",
       "      <td>37</td>\n",
       "      <td>M</td>\n",
       "      <td>ATA</td>\n",
       "      <td>130</td>\n",
       "      <td>283</td>\n",
       "      <td>0</td>\n",
       "      <td>ST</td>\n",
       "      <td>98</td>\n",
       "      <td>N</td>\n",
       "      <td>0.0</td>\n",
       "      <td>Up</td>\n",
       "      <td>0</td>\n",
       "    </tr>\n",
       "    <tr>\n",
       "      <th>3</th>\n",
       "      <td>48</td>\n",
       "      <td>F</td>\n",
       "      <td>ASY</td>\n",
       "      <td>138</td>\n",
       "      <td>214</td>\n",
       "      <td>0</td>\n",
       "      <td>Normal</td>\n",
       "      <td>108</td>\n",
       "      <td>Y</td>\n",
       "      <td>1.5</td>\n",
       "      <td>Flat</td>\n",
       "      <td>1</td>\n",
       "    </tr>\n",
       "    <tr>\n",
       "      <th>4</th>\n",
       "      <td>54</td>\n",
       "      <td>M</td>\n",
       "      <td>NAP</td>\n",
       "      <td>150</td>\n",
       "      <td>195</td>\n",
       "      <td>0</td>\n",
       "      <td>Normal</td>\n",
       "      <td>122</td>\n",
       "      <td>N</td>\n",
       "      <td>0.0</td>\n",
       "      <td>Up</td>\n",
       "      <td>0</td>\n",
       "    </tr>\n",
       "    <tr>\n",
       "      <th>5</th>\n",
       "      <td>39</td>\n",
       "      <td>M</td>\n",
       "      <td>NAP</td>\n",
       "      <td>120</td>\n",
       "      <td>339</td>\n",
       "      <td>0</td>\n",
       "      <td>Normal</td>\n",
       "      <td>170</td>\n",
       "      <td>N</td>\n",
       "      <td>0.0</td>\n",
       "      <td>Up</td>\n",
       "      <td>0</td>\n",
       "    </tr>\n",
       "    <tr>\n",
       "      <th>6</th>\n",
       "      <td>45</td>\n",
       "      <td>F</td>\n",
       "      <td>ATA</td>\n",
       "      <td>130</td>\n",
       "      <td>237</td>\n",
       "      <td>0</td>\n",
       "      <td>Normal</td>\n",
       "      <td>170</td>\n",
       "      <td>N</td>\n",
       "      <td>0.0</td>\n",
       "      <td>Up</td>\n",
       "      <td>0</td>\n",
       "    </tr>\n",
       "    <tr>\n",
       "      <th>7</th>\n",
       "      <td>54</td>\n",
       "      <td>M</td>\n",
       "      <td>ATA</td>\n",
       "      <td>110</td>\n",
       "      <td>208</td>\n",
       "      <td>0</td>\n",
       "      <td>Normal</td>\n",
       "      <td>142</td>\n",
       "      <td>N</td>\n",
       "      <td>0.0</td>\n",
       "      <td>Up</td>\n",
       "      <td>0</td>\n",
       "    </tr>\n",
       "    <tr>\n",
       "      <th>8</th>\n",
       "      <td>37</td>\n",
       "      <td>M</td>\n",
       "      <td>ASY</td>\n",
       "      <td>140</td>\n",
       "      <td>207</td>\n",
       "      <td>0</td>\n",
       "      <td>Normal</td>\n",
       "      <td>130</td>\n",
       "      <td>Y</td>\n",
       "      <td>1.5</td>\n",
       "      <td>Flat</td>\n",
       "      <td>1</td>\n",
       "    </tr>\n",
       "    <tr>\n",
       "      <th>9</th>\n",
       "      <td>48</td>\n",
       "      <td>F</td>\n",
       "      <td>ATA</td>\n",
       "      <td>120</td>\n",
       "      <td>284</td>\n",
       "      <td>0</td>\n",
       "      <td>Normal</td>\n",
       "      <td>120</td>\n",
       "      <td>N</td>\n",
       "      <td>0.0</td>\n",
       "      <td>Up</td>\n",
       "      <td>0</td>\n",
       "    </tr>\n",
       "  </tbody>\n",
       "</table>\n",
       "</div>"
      ]
     },
     "execution_count": 24,
     "metadata": {},
     "output_type": "execute_result"
    }
   ],
   "execution_count": 24
  },
  {
   "metadata": {
    "ExecuteTime": {
     "end_time": "2024-12-11T18:38:44.697947Z",
     "start_time": "2024-12-11T18:38:44.694402Z"
    }
   },
   "cell_type": "code",
   "source": [
    "# Preprocess function\n",
    "def preprocess(data):\n",
    "    data = data.copy()\n",
    "\n",
    "    # one-hot encoding the categorical columns\n",
    "    encoder = OneHotEncoder(drop='first', sparse_output=False)  # drop first: elkerüli a multikollinearitást\n",
    "    encoded_columns = encoder.fit_transform(data[['Sex', 'ExerciseAngina', 'ChestPainType', 'RestingECG', 'ST_Slope']])\n",
    "\n",
    "    # creating a new dataframe with the encoded columns\n",
    "    encoded_df = pd.DataFrame(encoded_columns, columns=encoder.get_feature_names_out(\n",
    "        ['Sex', 'ExerciseAngina', 'ChestPainType', 'RestingECG', 'ST_Slope']))\n",
    "\n",
    "    # dropping the original columns\n",
    "    data = data.drop(['Sex', 'ExerciseAngina', 'ChestPainType', 'RestingECG', 'ST_Slope'], axis=1)\n",
    "    # concatenating the original and encoded dataframes\n",
    "    data = pd.concat([data, encoded_df], axis=1)\n",
    "\n",
    "    # splitting the data to train and test\n",
    "    x = data.drop('HeartDisease', axis=1)\n",
    "    y = data['HeartDisease']\n",
    "\n",
    "    x_train, x_test, y_traing, y_test = train_test_split(x, y, test_size=0.2, shuffle=True, random_state=42)\n",
    "\n",
    "    # scaling the data\n",
    "    scaler = StandardScaler()\n",
    "    x_train = scaler.fit_transform(x_train)\n",
    "    x_test = scaler.transform(x_test)\n",
    "\n",
    "    return x_train, x_test, y_traing, y_test\n"
   ],
   "id": "3e75c2a7cc60f7e1",
   "outputs": [],
   "execution_count": 36
  },
  {
   "metadata": {
    "ExecuteTime": {
     "end_time": "2024-12-11T18:38:48.402718Z",
     "start_time": "2024-12-11T18:38:48.395451Z"
    }
   },
   "cell_type": "code",
   "source": [
    "# Preprocessing the data\n",
    "x_train, x_test, y_train, y_test = preprocess(df)"
   ],
   "id": "d1bc242c819b61ef",
   "outputs": [],
   "execution_count": 37
  },
  {
   "metadata": {
    "ExecuteTime": {
     "end_time": "2024-12-11T18:38:49.440872Z",
     "start_time": "2024-12-11T18:38:49.437871Z"
    }
   },
   "cell_type": "code",
   "source": [
    "# Checking the datas\n",
    "x_train.shape, x_test.shape, y_train.shape, y_test.shape"
   ],
   "id": "e54268f018200aa8",
   "outputs": [
    {
     "data": {
      "text/plain": [
       "((734, 15), (184, 15), (734,), (184,))"
      ]
     },
     "execution_count": 38,
     "metadata": {},
     "output_type": "execute_result"
    }
   ],
   "execution_count": 38
  },
  {
   "metadata": {
    "ExecuteTime": {
     "end_time": "2024-12-11T18:32:37.326102Z",
     "start_time": "2024-12-11T18:32:37.322550Z"
    }
   },
   "cell_type": "code",
   "source": [
    "# Printing the first 5 rows of the training data\n",
    "x_train[:5]"
   ],
   "id": "38f029cdb2699434",
   "outputs": [
    {
     "data": {
      "text/plain": [
       "array([[-1.24506731, -0.70898547,  0.372803  ,  1.84260945,  2.28435288,\n",
       "        -0.09706109,  0.54060477, -0.83846064, -0.48333575,  1.87905939,\n",
       "        -0.21350421,  0.80817891, -0.48762079, -1.03325003, -0.84792072],\n",
       "       [-1.8862362 , -0.16628515,  0.08614581, -0.5427086 ,  1.65224147,\n",
       "        -0.83628643,  0.54060477, -0.83846064, -0.48333575,  1.87905939,\n",
       "        -0.21350421,  0.80817891, -0.48762079, -1.03325003,  1.17935554],\n",
       "       [ 0.25099346,  0.91911549,  0.12313384,  1.84260945, -0.44162756,\n",
       "         0.08774524,  0.54060477,  1.19266183, -0.48333575, -0.53218116,\n",
       "        -0.21350421,  0.80817891, -0.48762079,  0.96781995, -0.84792072],\n",
       "       [-1.77937472, -0.16628515,  0.10463982, -0.5427086 ,  0.22999081,\n",
       "        -0.83628643, -1.84978019, -0.83846064, -0.48333575,  1.87905939,\n",
       "        -0.21350421,  0.80817891, -0.48762079, -1.03325003,  1.17935554],\n",
       "       [-0.28331396, -0.70898547, -1.84647842,  1.84260945, -1.27127378,\n",
       "        -0.83628643,  0.54060477, -0.83846064, -0.48333575, -0.53218116,\n",
       "        -0.21350421,  0.80817891, -0.48762079,  0.96781995, -0.84792072]])"
      ]
     },
     "execution_count": 28,
     "metadata": {},
     "output_type": "execute_result"
    }
   ],
   "execution_count": 28
  },
  {
   "metadata": {
    "ExecuteTime": {
     "end_time": "2024-12-11T18:32:38.816289Z",
     "start_time": "2024-12-11T18:32:38.812505Z"
    }
   },
   "cell_type": "code",
   "source": [
    "# Printing the first 5 rows of the testing data\n",
    "x_test[:5]"
   ],
   "id": "9b90f518c12183ca",
   "outputs": [
    {
     "data": {
      "text/plain": [
       "array([[ 0.99902384,  0.37641517, -0.04331227, -0.5427086 ,  1.69174843,\n",
       "        -0.83628643, -1.84978019, -0.83846064,  2.06895518, -0.53218116,\n",
       "        -0.21350421,  0.80817891, -0.48762079, -1.03325003,  1.17935554],\n",
       "       [-0.06959099,  0.64776533,  2.94347064, -0.5427086 , -0.24409275,\n",
       "        -0.83628643,  0.54060477, -0.83846064, -0.48333575,  1.87905939,\n",
       "        -0.21350421,  0.80817891, -0.48762079,  0.96781995, -0.84792072],\n",
       "       [ 1.2127468 ,  1.46181581, -1.84647842,  1.84260945, -0.56014845,\n",
       "         0.27255158,  0.54060477, -0.83846064, -0.48333575, -0.53218116,\n",
       "        -0.21350421, -1.23734978,  2.05077394,  0.96781995, -0.84792072],\n",
       "       [ 0.25099346, -0.16628515, -1.84647842, -0.5427086 , -0.56014845,\n",
       "         0.08774524,  0.54060477,  1.19266183, -0.48333575, -0.53218116,\n",
       "        -0.21350421, -1.23734978, -0.48762079,  0.96781995, -0.84792072],\n",
       "       [ 0.03727049, -1.36022586,  1.0108464 , -0.5427086 ,  0.78308829,\n",
       "        -0.83628643,  0.54060477, -0.83846064,  2.06895518, -0.53218116,\n",
       "        -0.21350421,  0.80817891, -0.48762079, -1.03325003,  1.17935554]])"
      ]
     },
     "execution_count": 29,
     "metadata": {},
     "output_type": "execute_result"
    }
   ],
   "execution_count": 29
  },
  {
   "metadata": {
    "ExecuteTime": {
     "end_time": "2024-12-11T18:32:40.684332Z",
     "start_time": "2024-12-11T18:32:40.681028Z"
    }
   },
   "cell_type": "code",
   "source": [
    "# Printing the first 5 rows of the training labels\n",
    "y_train[:5]"
   ],
   "id": "e9636a97baf37a23",
   "outputs": [
    {
     "data": {
      "text/plain": [
       "795    0\n",
       "25     0\n",
       "84     1\n",
       "10     0\n",
       "344    1\n",
       "Name: HeartDisease, dtype: int64"
      ]
     },
     "execution_count": 30,
     "metadata": {},
     "output_type": "execute_result"
    }
   ],
   "execution_count": 30
  },
  {
   "metadata": {
    "ExecuteTime": {
     "end_time": "2024-12-11T18:32:44.348565Z",
     "start_time": "2024-12-11T18:32:44.345427Z"
    }
   },
   "cell_type": "code",
   "source": [
    "# Printing the first 5 rows of the testing labels\n",
    "y_test[:5]"
   ],
   "id": "1db537e1d6addf97",
   "outputs": [
    {
     "data": {
      "text/plain": [
       "668    0\n",
       "30     1\n",
       "377    1\n",
       "535    1\n",
       "807    0\n",
       "Name: HeartDisease, dtype: int64"
      ]
     },
     "execution_count": 31,
     "metadata": {},
     "output_type": "execute_result"
    }
   ],
   "execution_count": 31
  },
  {
   "metadata": {
    "ExecuteTime": {
     "end_time": "2024-12-11T18:38:54.807731Z",
     "start_time": "2024-12-11T18:38:54.804665Z"
    }
   },
   "cell_type": "code",
   "source": [
    "# Creating custom XGBoost model\n",
    "\n",
    "class CustomXGBClassifier(BaseEstimator, ClassifierMixin):\n",
    "    def __init__(self, **kwargs):\n",
    "        self.model = xgb.XGBClassifier(**kwargs)\n",
    "\n",
    "    def fit(self, X, y):\n",
    "        self.model.fit(X, y)\n",
    "        return self\n",
    "\n",
    "    def predict(self, X):\n",
    "        return self.model.predict(X)\n",
    "\n",
    "    def predict_proba(self, X):\n",
    "        return self.model.predict_proba(X)\n",
    "\n",
    "    def __sklearn_tags__(self):\n",
    "        return self.model.__sklearn_tags__()"
   ],
   "id": "4bf000ab189b5d47",
   "outputs": [],
   "execution_count": 39
  },
  {
   "metadata": {
    "ExecuteTime": {
     "end_time": "2024-12-11T18:38:56.908952Z",
     "start_time": "2024-12-11T18:38:56.906148Z"
    }
   },
   "cell_type": "code",
   "source": [
    "# all the models I will use\n",
    "models = {\n",
    "    'Logistic Regression': LogisticRegression(),\n",
    "    'Decision Tree': DecisionTreeClassifier(),\n",
    "    'Random Forest': RandomForestClassifier(),\n",
    "    'Support Vector Machine': SVC(),\n",
    "    'K-Nearest Neighbors': KNeighborsClassifier(),\n",
    "    'Gaussion Naive Bayes': GaussianNB(),\n",
    "    'Linear Discriminant Analysis': LinearDiscriminantAnalysis(),\n",
    "    'Quadratic Discriminant Analysis': QuadraticDiscriminantAnalysis(),\n",
    "    'XGBoost': CustomXGBClassifier(),\n",
    "}"
   ],
   "id": "6b0647d185577b25",
   "outputs": [],
   "execution_count": 40
  },
  {
   "metadata": {
    "ExecuteTime": {
     "end_time": "2024-12-11T18:38:58.928023Z",
     "start_time": "2024-12-11T18:38:58.774377Z"
    }
   },
   "cell_type": "code",
   "source": [
    "# applying the models and getting the results\n",
    "for name, model in models.items():\n",
    "    pipeline = make_pipeline(StandardScaler(), model)\n",
    "\n",
    "    # fitting the model\n",
    "    pipeline.fit(x_train, y_train)\n",
    "\n",
    "    # predicting the test data\n",
    "    y_pred = pipeline.predict(x_test)\n",
    "\n",
    "    # calculating the accuracy\n",
    "    accuracy = accuracy_score(y_test, y_pred)\n",
    "    print(f'{name}: {accuracy}')\n",
    "    print(classification_report(y_test, y_pred))\n",
    "    print(\"-\" * 50)"
   ],
   "id": "3304cde15d8b3d8f",
   "outputs": [
    {
     "name": "stdout",
     "output_type": "stream",
     "text": [
      "Logistic Regression: 0.8532608695652174\n",
      "              precision    recall  f1-score   support\n",
      "\n",
      "           0       0.80      0.87      0.83        77\n",
      "           1       0.90      0.84      0.87       107\n",
      "\n",
      "    accuracy                           0.85       184\n",
      "   macro avg       0.85      0.86      0.85       184\n",
      "weighted avg       0.86      0.85      0.85       184\n",
      "\n",
      "--------------------------------------------------\n",
      "Decision Tree: 0.8369565217391305\n",
      "              precision    recall  f1-score   support\n",
      "\n",
      "           0       0.80      0.82      0.81        77\n",
      "           1       0.87      0.85      0.86       107\n",
      "\n",
      "    accuracy                           0.84       184\n",
      "   macro avg       0.83      0.83      0.83       184\n",
      "weighted avg       0.84      0.84      0.84       184\n",
      "\n",
      "--------------------------------------------------\n",
      "Random Forest: 0.8695652173913043\n",
      "              precision    recall  f1-score   support\n",
      "\n",
      "           0       0.84      0.84      0.84        77\n",
      "           1       0.89      0.89      0.89       107\n",
      "\n",
      "    accuracy                           0.87       184\n",
      "   macro avg       0.87      0.87      0.87       184\n",
      "weighted avg       0.87      0.87      0.87       184\n",
      "\n",
      "--------------------------------------------------\n",
      "Support Vector Machine: 0.875\n",
      "              precision    recall  f1-score   support\n",
      "\n",
      "           0       0.84      0.87      0.85        77\n",
      "           1       0.90      0.88      0.89       107\n",
      "\n",
      "    accuracy                           0.88       184\n",
      "   macro avg       0.87      0.87      0.87       184\n",
      "weighted avg       0.88      0.88      0.88       184\n",
      "\n",
      "--------------------------------------------------\n",
      "K-Nearest Neighbors: 0.8532608695652174\n",
      "              precision    recall  f1-score   support\n",
      "\n",
      "           0       0.80      0.87      0.83        77\n",
      "           1       0.90      0.84      0.87       107\n",
      "\n",
      "    accuracy                           0.85       184\n",
      "   macro avg       0.85      0.86      0.85       184\n",
      "weighted avg       0.86      0.85      0.85       184\n",
      "\n",
      "--------------------------------------------------\n",
      "Gaussion Naive Bayes: 0.8586956521739131\n",
      "              precision    recall  f1-score   support\n",
      "\n",
      "           0       0.80      0.88      0.84        77\n",
      "           1       0.91      0.84      0.87       107\n",
      "\n",
      "    accuracy                           0.86       184\n",
      "   macro avg       0.85      0.86      0.86       184\n",
      "weighted avg       0.86      0.86      0.86       184\n",
      "\n",
      "--------------------------------------------------\n",
      "Linear Discriminant Analysis: 0.842391304347826\n",
      "              precision    recall  f1-score   support\n",
      "\n",
      "           0       0.78      0.87      0.82        77\n",
      "           1       0.90      0.82      0.86       107\n",
      "\n",
      "    accuracy                           0.84       184\n",
      "   macro avg       0.84      0.85      0.84       184\n",
      "weighted avg       0.85      0.84      0.84       184\n",
      "\n",
      "--------------------------------------------------\n",
      "Quadratic Discriminant Analysis: 0.8695652173913043\n",
      "              precision    recall  f1-score   support\n",
      "\n",
      "           0       0.81      0.90      0.85        77\n",
      "           1       0.92      0.85      0.88       107\n",
      "\n",
      "    accuracy                           0.87       184\n",
      "   macro avg       0.87      0.87      0.87       184\n",
      "weighted avg       0.87      0.87      0.87       184\n",
      "\n",
      "--------------------------------------------------\n",
      "XGBoost: 0.8586956521739131\n",
      "              precision    recall  f1-score   support\n",
      "\n",
      "           0       0.81      0.87      0.84        77\n",
      "           1       0.90      0.85      0.88       107\n",
      "\n",
      "    accuracy                           0.86       184\n",
      "   macro avg       0.85      0.86      0.86       184\n",
      "weighted avg       0.86      0.86      0.86       184\n",
      "\n",
      "--------------------------------------------------\n"
     ]
    },
    {
     "name": "stderr",
     "output_type": "stream",
     "text": [
      "D:\\uni_stuffs\\ai\\mach_learn\\.venv\\Lib\\site-packages\\sklearn\\pipeline.py:62: FutureWarning: This Pipeline instance is not fitted yet. Call 'fit' with appropriate arguments before using other methods such as transform, predict, etc. This will raise an error in 1.8 instead of the current warning.\n",
      "  warnings.warn(\n"
     ]
    }
   ],
   "execution_count": 41
  }
 ],
 "metadata": {
  "kernelspec": {
   "name": "python3",
   "language": "python",
   "display_name": "Python 3 (ipykernel)"
  }
 },
 "nbformat": 5,
 "nbformat_minor": 9
}
